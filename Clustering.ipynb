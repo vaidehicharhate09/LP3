{
 "cells": [
  {
   "cell_type": "code",
   "execution_count": null,
   "id": "9e5db69e",
   "metadata": {},
   "outputs": [],
   "source": [
    "import pandas as pd\n",
    "import numpy as np\n",
    "import seaborn as sns\n",
    "import matplotlib.pyplot as plt"
   ]
  },
  {
   "cell_type": "code",
   "execution_count": null,
   "id": "c01c18a8",
   "metadata": {},
   "outputs": [],
   "source": [
    "from sklearn.cluster import KMeans, k_means \n",
    "from sklearn.decomposition import PCA"
   ]
  },
  {
   "cell_type": "code",
   "execution_count": null,
   "id": "444dabdc",
   "metadata": {},
   "outputs": [],
   "source": [
    "df = pd.read_csv(\"sales_data_sample.csv\") "
   ]
  },
  {
   "cell_type": "code",
   "execution_count": null,
   "id": "26380d74",
   "metadata": {},
   "outputs": [],
   "source": [
    "df.head()"
   ]
  },
  {
   "cell_type": "code",
   "execution_count": null,
   "id": "2185bf7d",
   "metadata": {},
   "outputs": [],
   "source": [
    "df.shape "
   ]
  },
  {
   "cell_type": "code",
   "execution_count": null,
   "id": "02875d75",
   "metadata": {},
   "outputs": [],
   "source": [
    "df.describe()"
   ]
  },
  {
   "cell_type": "code",
   "execution_count": null,
   "id": "ee8a73dd",
   "metadata": {},
   "outputs": [],
   "source": [
    "df.info()"
   ]
  },
  {
   "cell_type": "code",
   "execution_count": null,
   "id": "7b97dde0",
   "metadata": {},
   "outputs": [],
   "source": [
    "df.isnull().sum()"
   ]
  },
  {
   "cell_type": "code",
   "execution_count": null,
   "id": "eecf5a97",
   "metadata": {},
   "outputs": [],
   "source": [
    "df.dtypes"
   ]
  },
  {
   "cell_type": "code",
   "execution_count": null,
   "id": "210d172f",
   "metadata": {},
   "outputs": [],
   "source": [
    "df_drop  = ['ADDRESSLINE1', 'ADDRESSLINE2', 'STATUS','POSTALCODE', 'CITY', 'TERRITORY', 'PHONE', 'STATE', 'CONTACTFIRSTNAME', 'CONTACTLASTNAME', 'CUSTOMERNAME', 'ORDERNUMBER']\n",
    "df = df.drop(df_drop, axis=1) "
   ]
  },
  {
   "cell_type": "code",
   "execution_count": null,
   "id": "34de026b",
   "metadata": {},
   "outputs": [],
   "source": [
    "df.isnull().sum()"
   ]
  },
  {
   "cell_type": "code",
   "execution_count": null,
   "id": "a94e1371",
   "metadata": {},
   "outputs": [],
   "source": [
    "df.dtypes"
   ]
  },
  {
   "cell_type": "code",
   "execution_count": null,
   "id": "290c0508",
   "metadata": {},
   "outputs": [],
   "source": [
    "df['COUNTRY'].unique()"
   ]
  },
  {
   "cell_type": "code",
   "execution_count": null,
   "id": "85342bdc",
   "metadata": {},
   "outputs": [],
   "source": [
    "df['PRODUCTLINE'].unique()"
   ]
  },
  {
   "cell_type": "code",
   "execution_count": null,
   "id": "234f9a30",
   "metadata": {},
   "outputs": [],
   "source": [
    "df['DEALSIZE'].unique()"
   ]
  },
  {
   "cell_type": "code",
   "execution_count": null,
   "id": "bc15752e",
   "metadata": {},
   "outputs": [],
   "source": [
    "productline = pd.get_dummies(df['PRODUCTLINE']) \n",
    "Dealsize = pd.get_dummies(df['DEALSIZE'])"
   ]
  },
  {
   "cell_type": "code",
   "execution_count": null,
   "id": "9d74ed68",
   "metadata": {},
   "outputs": [],
   "source": [
    "df = pd.concat([df,productline,Dealsize], axis = 1)"
   ]
  },
  {
   "cell_type": "code",
   "execution_count": null,
   "id": "654364c8",
   "metadata": {},
   "outputs": [],
   "source": [
    "df_drop  = ['COUNTRY','PRODUCTLINE','DEALSIZE'] \n",
    "df = df.drop(df_drop, axis=1)"
   ]
  },
  {
   "cell_type": "code",
   "execution_count": null,
   "id": "e9eb7f3b",
   "metadata": {},
   "outputs": [],
   "source": [
    "df['PRODUCTCODE'] = pd.Categorical(df['PRODUCTCODE']).codes "
   ]
  },
  {
   "cell_type": "code",
   "execution_count": null,
   "id": "78c6275d",
   "metadata": {},
   "outputs": [],
   "source": [
    "df.drop('ORDERDATE', axis=1, inplace=True) "
   ]
  },
  {
   "cell_type": "code",
   "execution_count": null,
   "id": "34db66d9",
   "metadata": {},
   "outputs": [],
   "source": [
    "df.dtypes #All the datatypes are converted into numeric"
   ]
  },
  {
   "cell_type": "code",
   "execution_count": null,
   "id": "28896075",
   "metadata": {},
   "outputs": [],
   "source": [
    "distortions = [] # Within Cluster Sum of Squares from the centroid\n",
    "K = range(1,10)\n",
    "for k in K:\n",
    "    kmeanModel = KMeans(n_clusters=k)\n",
    "    kmeanModel.fit(df)\n",
    "    distortions.append(kmeanModel.inertia_)   #Appeding the intertia to the Distortions "
   ]
  },
  {
   "cell_type": "code",
   "execution_count": null,
   "id": "dcec85a9",
   "metadata": {},
   "outputs": [],
   "source": [
    "plt.figure(figsize=(16,8))\n",
    "plt.plot(K, distortions, 'bx-')\n",
    "plt.xlabel('k')\n",
    "plt.ylabel('Distortion')\n",
    "plt.title('The Elbow Method showing the optimal k')\n",
    "plt.show()"
   ]
  },
  {
   "cell_type": "code",
   "execution_count": null,
   "id": "6ccf709c",
   "metadata": {},
   "outputs": [],
   "source": [
    "X_train = df.values #Returns a numpy array."
   ]
  },
  {
   "cell_type": "code",
   "execution_count": null,
   "id": "38f9e970",
   "metadata": {},
   "outputs": [],
   "source": [
    "X_train.shape"
   ]
  },
  {
   "cell_type": "code",
   "execution_count": null,
   "id": "114d078b",
   "metadata": {},
   "outputs": [],
   "source": [
    "model = KMeans(n_clusters=3,random_state=2) #Number of cluster = 3\n",
    "model = model.fit(X_train) #Fitting the values to create a model.\n",
    "predictions = model.predict(X_train) #Predicting the cluster values (0,1,or 2)"
   ]
  },
  {
   "cell_type": "code",
   "execution_count": null,
   "id": "842c0b6d",
   "metadata": {},
   "outputs": [],
   "source": [
    "unique,counts = np.unique(predictions,return_counts=True)"
   ]
  },
  {
   "cell_type": "code",
   "execution_count": null,
   "id": "e6bf1b92",
   "metadata": {},
   "outputs": [],
   "source": [
    "counts = counts.reshape(1,3)"
   ]
  },
  {
   "cell_type": "code",
   "execution_count": null,
   "id": "05297959",
   "metadata": {},
   "outputs": [],
   "source": [
    "counts_df = pd.DataFrame(counts,columns=['Cluster1','Cluster2','Cluster3'])"
   ]
  },
  {
   "cell_type": "code",
   "execution_count": null,
   "id": "70c12f8a",
   "metadata": {},
   "outputs": [],
   "source": [
    "counts_df.head()"
   ]
  },
  {
   "cell_type": "code",
   "execution_count": null,
   "id": "3693236d",
   "metadata": {},
   "outputs": [],
   "source": [
    "pca = PCA(n_components=2) #Converting all the features into 2 columns to make it easy to visualize using Principal COmponent Analysis."
   ]
  },
  {
   "cell_type": "code",
   "execution_count": null,
   "id": "768c01cb",
   "metadata": {},
   "outputs": [],
   "source": [
    "reduced_X = pd.DataFrame(pca.fit_transform(X_train),columns=['PCA1','PCA2']) #Creating a DataFrame."
   ]
  },
  {
   "cell_type": "code",
   "execution_count": null,
   "id": "d3fdef81",
   "metadata": {},
   "outputs": [],
   "source": [
    "reduced_X.head()"
   ]
  },
  {
   "cell_type": "code",
   "execution_count": null,
   "id": "3982a277",
   "metadata": {},
   "outputs": [],
   "source": [
    "#Plotting the normal Scatter Plot\n",
    "plt.figure(figsize=(14,10))\n",
    "plt.scatter(reduced_X['PCA1'],reduced_X['PCA2'])"
   ]
  },
  {
   "cell_type": "code",
   "execution_count": null,
   "id": "da9724c1",
   "metadata": {},
   "outputs": [],
   "source": [
    "model.cluster_centers_ #Finding the centriods. (3 Centriods in total. Each Array contains a centroids for particular feature )"
   ]
  },
  {
   "cell_type": "code",
   "execution_count": null,
   "id": "d587b049",
   "metadata": {},
   "outputs": [],
   "source": [
    "reduced_centers = pca.transform(model.cluster_centers_) #Transforming the centroids into 3 in x and y coordinates"
   ]
  },
  {
   "cell_type": "code",
   "execution_count": null,
   "id": "b72cd2da",
   "metadata": {},
   "outputs": [],
   "source": [
    "reduced_centers"
   ]
  },
  {
   "cell_type": "code",
   "execution_count": null,
   "id": "ece394c2",
   "metadata": {},
   "outputs": [],
   "source": [
    "plt.figure(figsize=(14,10))\n",
    "plt.scatter(reduced_X['PCA1'],reduced_X['PCA2'])\n",
    "plt.scatter(reduced_centers[:,0],reduced_centers[:,1],color='black',marker='x',s=300) #Plotting the centriods"
   ]
  },
  {
   "cell_type": "code",
   "execution_count": null,
   "id": "ff03603c",
   "metadata": {},
   "outputs": [],
   "source": [
    "reduced_X['Clusters'] = predictions #Adding the Clusters to the reduced dataframe."
   ]
  },
  {
   "cell_type": "code",
   "execution_count": null,
   "id": "3cd419ac",
   "metadata": {},
   "outputs": [],
   "source": [
    "reduced_X.head()"
   ]
  },
  {
   "cell_type": "code",
   "execution_count": null,
   "id": "ca0cba45",
   "metadata": {},
   "outputs": [],
   "source": [
    "#Plotting the clusters \n",
    "plt.figure(figsize=(14,10))\n",
    "#                     taking the cluster number and first column           taking the same cluster number and second column      Assigning the color\n",
    "plt.scatter(reduced_X[reduced_X['Clusters'] == 0].loc[:,'PCA1'],reduced_X[reduced_X['Clusters'] == 0].loc[:,'PCA2'],color='slateblue')\n",
    "plt.scatter(reduced_X[reduced_X['Clusters'] == 1].loc[:,'PCA1'],reduced_X[reduced_X['Clusters'] == 1].loc[:,'PCA2'],color='springgreen')\n",
    "plt.scatter(reduced_X[reduced_X['Clusters'] == 2].loc[:,'PCA1'],reduced_X[reduced_X['Clusters'] == 2].loc[:,'PCA2'],color='indigo')\n",
    "\n",
    "\n",
    "plt.scatter(reduced_centers[:,0],reduced_centers[:,1],color='black',marker='x',s=300)"
   ]
  }
 ],
 "metadata": {
  "kernelspec": {
   "display_name": "Python 3 (ipykernel)",
   "language": "python",
   "name": "python3"
  },
  "language_info": {
   "codemirror_mode": {
    "name": "ipython",
    "version": 3
   },
   "file_extension": ".py",
   "mimetype": "text/x-python",
   "name": "python",
   "nbconvert_exporter": "python",
   "pygments_lexer": "ipython3",
   "version": "3.9.13"
  }
 },
 "nbformat": 4,
 "nbformat_minor": 5
}
